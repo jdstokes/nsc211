{
 "cells": [
  {
   "cell_type": "markdown",
   "metadata": {},
   "source": [
    "# fMRI example"
   ]
  },
  {
   "cell_type": "code",
   "execution_count": 2,
   "metadata": {
    "collapsed": true
   },
   "outputs": [],
   "source": [
    "import numpy as np\n",
    "from scipy.io import loadmat\n",
    "from os.path import join\n",
    "import glob\n",
    "import pandas as pd\n",
    "    "
   ]
  },
  {
   "cell_type": "code",
   "execution_count": 3,
   "metadata": {
    "collapsed": false
   },
   "outputs": [],
   "source": [
    "\n",
    "#data dir\n",
    "data_dir = '../data/greco_mri'\n",
    "\n",
    "#rois\n",
    "rois = ['left_CA1','right_CA1','left_DG','right_DG'];\n",
    "\n",
    "#subjec list\n",
    "subjects = ['S1_A','S2_B','S3_A','S4_A','S5_A','S6_A','S7_A','S8_B',\n",
    "            'S9_A','S10_B','S11_B','S12_B','S13_B','S14_B','S15_B',\n",
    "            'S16_A','S21_B','S22_B','S23_B','S24_A'];\n",
    "\n",
    "subj_data = glob.glob(join(data_dir,'*right_DG.csv'))\n",
    "subj_data = np.array(subj_data);\n",
    "num_voxels = np.empty(subj_data.shape)\n",
    "num_trials = np.empty(subj_data.shape)\n",
    "\n",
    "for i,fname in enumerate(subj_data):\n",
    "    data= pd.read_csv(fname,header=None)\n",
    "    num_trials[i] = data.shape[0];\n",
    "    num_voxels[i] = data.shape[1];"
   ]
  },
  {
   "cell_type": "code",
   "execution_count": 10,
   "metadata": {
    "collapsed": false
   },
   "outputs": [
    {
     "name": "stdout",
     "output_type": "stream",
     "text": [
      "minimum number of voxels: 142.0\n",
      "number of trials per subject: 99.95\n",
      "number of subjects: (20,)\n"
     ]
    }
   ],
   "source": [
    "print('minimum number of voxels: ' + str(np.min(num_voxels)))\n",
    "print('number of trials per subject: ' + str(np.mean(num_trials)))\n",
    "print('number of subjects: ' + str(subj_data.shape))"
   ]
  },
  {
   "cell_type": "code",
   "execution_count": 57,
   "metadata": {
    "collapsed": false
   },
   "outputs": [
    {
     "data": {
      "text/plain": [
       "array(['../data/greco_mri/S10_B_right_DG.csv',\n",
       "       '../data/greco_mri/S11_B_right_DG.csv',\n",
       "       '../data/greco_mri/S12_B_right_DG.csv',\n",
       "       '../data/greco_mri/S14_B_right_DG.csv',\n",
       "       '../data/greco_mri/S15_B_right_DG.csv',\n",
       "       '../data/greco_mri/S16_A_right_DG.csv',\n",
       "       '../data/greco_mri/S1_A_right_DG.csv',\n",
       "       '../data/greco_mri/S21_B_right_DG.csv',\n",
       "       '../data/greco_mri/S22_B_right_DG.csv',\n",
       "       '../data/greco_mri/S23_B_right_DG.csv',\n",
       "       '../data/greco_mri/S24_A_right_DG.csv',\n",
       "       '../data/greco_mri/S3_A_right_DG.csv',\n",
       "       '../data/greco_mri/S4_A_right_DG.csv',\n",
       "       '../data/greco_mri/S5_A_right_DG.csv',\n",
       "       '../data/greco_mri/S6_A_right_DG.csv',\n",
       "       '../data/greco_mri/S7_A_right_DG.csv',\n",
       "       '../data/greco_mri/S9_A_right_DG.csv'], \n",
       "      dtype='|S36')"
      ]
     },
     "execution_count": 57,
     "metadata": {},
     "output_type": "execute_result"
    }
   ],
   "source": [
    "fname\n"
   ]
  },
  {
   "cell_type": "code",
   "execution_count": 50,
   "metadata": {
    "collapsed": false
   },
   "outputs": [
    {
     "data": {
      "text/plain": [
       "(17,)"
      ]
     },
     "execution_count": 50,
     "metadata": {},
     "output_type": "execute_result"
    }
   ],
   "source": [
    "pd.read_csv(fname)"
   ]
  },
  {
   "cell_type": "code",
   "execution_count": 9,
   "metadata": {
    "collapsed": false
   },
   "outputs": [
    {
     "name": "stdout",
     "output_type": "stream",
     "text": [
      "betas_masked\n",
      "name_reg\n",
      "resid_masked\n",
      "__header__\n",
      "__globals__\n",
      "roi_key\n",
      "__version__\n"
     ]
    }
   ],
   "source": [
    "for key, value in data.iteritems():\n",
    "    print key"
   ]
  },
  {
   "cell_type": "code",
   "execution_count": 29,
   "metadata": {
    "collapsed": false
   },
   "outputs": [
    {
     "data": {
      "text/plain": [
       "u'ash_left_35.nii'"
      ]
     },
     "execution_count": 29,
     "metadata": {},
     "output_type": "execute_result"
    }
   ],
   "source": [
    "data['roi_key'][0][0][0]"
   ]
  },
  {
   "cell_type": "code",
   "execution_count": null,
   "metadata": {
    "collapsed": true
   },
   "outputs": [],
   "source": []
  }
 ],
 "metadata": {
  "anaconda-cloud": {},
  "kernelspec": {
   "display_name": "Python 2",
   "language": "python",
   "name": "python2"
  },
  "language_info": {
   "codemirror_mode": {
    "name": "ipython",
    "version": 2
   },
   "file_extension": ".py",
   "mimetype": "text/x-python",
   "name": "python",
   "nbconvert_exporter": "python",
   "pygments_lexer": "ipython2",
   "version": "2.7.13"
  }
 },
 "nbformat": 4,
 "nbformat_minor": 2
}
